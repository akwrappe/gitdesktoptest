{
 "cells": [
  {
   "cell_type": "code",
   "execution_count": 48,
   "id": "06848ef4",
   "metadata": {},
   "outputs": [],
   "source": [
    "\"\"\"\n",
    "    I chose this dataset because it had more categories than my previous attempt, meaning that I could better sort variables\n",
    "    Description of the data:\n",
    "        how big is it (number of observations, variables): 2225 observations, 2 variables\n",
    "        how many numeric variables\n",
    "        how many categorical variables: \n",
    "        Are there any missing values?: missing values are outside the range recorded\n",
    "        Any duplicate rows?\n",
    "    Compute summary statistics (mean, median, mode, standard deviation, variance, range). \n",
    "    Select one categorical variable, compute these statistics by grouping on that variable\n",
    "    Record your observation. What did you find the most fascinating from your descriptive analysis. \n",
    "\"\"\"\n",
    "import pandas as pd\n",
    "import numpy as np\n",
    "import statsmodels.api as sm\n",
    "grunfeld = sm.datasets.grunfeld"
   ]
  },
  {
   "cell_type": "code",
   "execution_count": 49,
   "id": "a403f322",
   "metadata": {},
   "outputs": [
    {
     "name": "stdout",
     "output_type": "stream",
     "text": [
      "Grunfeld (1950) Investment Data for 11 U.S. Firms.\n"
     ]
    }
   ],
   "source": [
    "print(grunfeld.DESCRLONG)"
   ]
  },
  {
   "cell_type": "code",
   "execution_count": 50,
   "id": "30cc140c",
   "metadata": {},
   "outputs": [
    {
     "name": "stdout",
     "output_type": "stream",
     "text": [
      "::\n",
      "\n",
      "    Number of observations - 220 (20 years for 11 firms)\n",
      "\n",
      "    Number of variables - 5\n",
      "\n",
      "    Variables name definitions::\n",
      "\n",
      "        invest  - Gross investment in 1947 dollars\n",
      "        value   - Market value as of Dec. 31 in 1947 dollars\n",
      "        capital - Stock of plant and equipment in 1947 dollars\n",
      "        firm    - General Motors, US Steel, General Electric, Chrysler,\n",
      "                Atlantic Refining, IBM, Union Oil, Westinghouse, Goodyear,\n",
      "                Diamond Match, American Steel\n",
      "        year    - 1935 - 1954\n",
      "\n",
      "    Note that raw_data has firm expanded to dummy variables, since it is a\n",
      "    string categorical variable.\n",
      "\n"
     ]
    }
   ],
   "source": [
    "print(grunfeld.NOTE)"
   ]
  },
  {
   "cell_type": "code",
   "execution_count": 51,
   "id": "a23fd6ba",
   "metadata": {},
   "outputs": [],
   "source": [
    "dataset_grunfeld = grunfeld.load_pandas()"
   ]
  },
  {
   "cell_type": "code",
   "execution_count": 52,
   "id": "35b49ae3",
   "metadata": {},
   "outputs": [
    {
     "data": {
      "text/html": [
       "<div>\n",
       "<style scoped>\n",
       "    .dataframe tbody tr th:only-of-type {\n",
       "        vertical-align: middle;\n",
       "    }\n",
       "\n",
       "    .dataframe tbody tr th {\n",
       "        vertical-align: top;\n",
       "    }\n",
       "\n",
       "    .dataframe thead th {\n",
       "        text-align: right;\n",
       "    }\n",
       "</style>\n",
       "<table border=\"1\" class=\"dataframe\">\n",
       "  <thead>\n",
       "    <tr style=\"text-align: right;\">\n",
       "      <th></th>\n",
       "      <th>invest</th>\n",
       "      <th>value</th>\n",
       "      <th>capital</th>\n",
       "      <th>firm</th>\n",
       "      <th>year</th>\n",
       "    </tr>\n",
       "  </thead>\n",
       "  <tbody>\n",
       "    <tr>\n",
       "      <th>0</th>\n",
       "      <td>317.6</td>\n",
       "      <td>3078.5</td>\n",
       "      <td>2.8</td>\n",
       "      <td>General Motors</td>\n",
       "      <td>1935.0</td>\n",
       "    </tr>\n",
       "    <tr>\n",
       "      <th>1</th>\n",
       "      <td>391.8</td>\n",
       "      <td>4661.7</td>\n",
       "      <td>52.6</td>\n",
       "      <td>General Motors</td>\n",
       "      <td>1936.0</td>\n",
       "    </tr>\n",
       "    <tr>\n",
       "      <th>2</th>\n",
       "      <td>410.6</td>\n",
       "      <td>5387.1</td>\n",
       "      <td>156.9</td>\n",
       "      <td>General Motors</td>\n",
       "      <td>1937.0</td>\n",
       "    </tr>\n",
       "    <tr>\n",
       "      <th>3</th>\n",
       "      <td>257.7</td>\n",
       "      <td>2792.2</td>\n",
       "      <td>209.2</td>\n",
       "      <td>General Motors</td>\n",
       "      <td>1938.0</td>\n",
       "    </tr>\n",
       "    <tr>\n",
       "      <th>4</th>\n",
       "      <td>330.8</td>\n",
       "      <td>4313.2</td>\n",
       "      <td>203.4</td>\n",
       "      <td>General Motors</td>\n",
       "      <td>1939.0</td>\n",
       "    </tr>\n",
       "  </tbody>\n",
       "</table>\n",
       "</div>"
      ],
      "text/plain": [
       "   invest   value  capital            firm    year\n",
       "0   317.6  3078.5      2.8  General Motors  1935.0\n",
       "1   391.8  4661.7     52.6  General Motors  1936.0\n",
       "2   410.6  5387.1    156.9  General Motors  1937.0\n",
       "3   257.7  2792.2    209.2  General Motors  1938.0\n",
       "4   330.8  4313.2    203.4  General Motors  1939.0"
      ]
     },
     "execution_count": 52,
     "metadata": {},
     "output_type": "execute_result"
    }
   ],
   "source": [
    "df_grunfeld = dataset_grunfeld.data\n",
    "df_grunfeld.head()"
   ]
  },
  {
   "cell_type": "code",
   "execution_count": 53,
   "id": "aa55aba5",
   "metadata": {},
   "outputs": [
    {
     "data": {
      "text/html": [
       "<div>\n",
       "<style scoped>\n",
       "    .dataframe tbody tr th:only-of-type {\n",
       "        vertical-align: middle;\n",
       "    }\n",
       "\n",
       "    .dataframe tbody tr th {\n",
       "        vertical-align: top;\n",
       "    }\n",
       "\n",
       "    .dataframe thead th {\n",
       "        text-align: right;\n",
       "    }\n",
       "</style>\n",
       "<table border=\"1\" class=\"dataframe\">\n",
       "  <thead>\n",
       "    <tr style=\"text-align: right;\">\n",
       "      <th></th>\n",
       "      <th>invest</th>\n",
       "      <th>value</th>\n",
       "      <th>capital</th>\n",
       "      <th>firm</th>\n",
       "      <th>year</th>\n",
       "    </tr>\n",
       "  </thead>\n",
       "  <tbody>\n",
       "    <tr>\n",
       "      <th>215</th>\n",
       "      <td>4.770</td>\n",
       "      <td>36.494</td>\n",
       "      <td>75.847</td>\n",
       "      <td>American Steel</td>\n",
       "      <td>1950.0</td>\n",
       "    </tr>\n",
       "    <tr>\n",
       "      <th>216</th>\n",
       "      <td>6.532</td>\n",
       "      <td>46.082</td>\n",
       "      <td>77.367</td>\n",
       "      <td>American Steel</td>\n",
       "      <td>1951.0</td>\n",
       "    </tr>\n",
       "    <tr>\n",
       "      <th>217</th>\n",
       "      <td>7.329</td>\n",
       "      <td>57.616</td>\n",
       "      <td>78.631</td>\n",
       "      <td>American Steel</td>\n",
       "      <td>1952.0</td>\n",
       "    </tr>\n",
       "    <tr>\n",
       "      <th>218</th>\n",
       "      <td>9.020</td>\n",
       "      <td>57.441</td>\n",
       "      <td>80.215</td>\n",
       "      <td>American Steel</td>\n",
       "      <td>1953.0</td>\n",
       "    </tr>\n",
       "    <tr>\n",
       "      <th>219</th>\n",
       "      <td>6.281</td>\n",
       "      <td>47.165</td>\n",
       "      <td>83.788</td>\n",
       "      <td>American Steel</td>\n",
       "      <td>1954.0</td>\n",
       "    </tr>\n",
       "  </tbody>\n",
       "</table>\n",
       "</div>"
      ],
      "text/plain": [
       "     invest   value  capital            firm    year\n",
       "215   4.770  36.494   75.847  American Steel  1950.0\n",
       "216   6.532  46.082   77.367  American Steel  1951.0\n",
       "217   7.329  57.616   78.631  American Steel  1952.0\n",
       "218   9.020  57.441   80.215  American Steel  1953.0\n",
       "219   6.281  47.165   83.788  American Steel  1954.0"
      ]
     },
     "execution_count": 53,
     "metadata": {},
     "output_type": "execute_result"
    }
   ],
   "source": [
    "df_grunfeld.tail()"
   ]
  },
  {
   "cell_type": "code",
   "execution_count": 54,
   "id": "bb033802",
   "metadata": {},
   "outputs": [
    {
     "data": {
      "text/plain": [
       "(220, 5)"
      ]
     },
     "execution_count": 54,
     "metadata": {},
     "output_type": "execute_result"
    }
   ],
   "source": [
    "df_grunfeld.shape"
   ]
  },
  {
   "cell_type": "code",
   "execution_count": 55,
   "id": "6f4a5860",
   "metadata": {},
   "outputs": [
    {
     "data": {
      "text/plain": [
       "invest     0\n",
       "value      0\n",
       "capital    0\n",
       "firm       0\n",
       "year       0\n",
       "dtype: int64"
      ]
     },
     "execution_count": 55,
     "metadata": {},
     "output_type": "execute_result"
    }
   ],
   "source": [
    "df_grunfeld.isnull().sum()"
   ]
  },
  {
   "cell_type": "code",
   "execution_count": 56,
   "id": "300060d8",
   "metadata": {},
   "outputs": [
    {
     "data": {
      "text/plain": [
       "invest     float64\n",
       "value      float64\n",
       "capital    float64\n",
       "firm        object\n",
       "year       float64\n",
       "dtype: object"
      ]
     },
     "execution_count": 56,
     "metadata": {},
     "output_type": "execute_result"
    }
   ],
   "source": [
    "df_grunfeld.dtypes"
   ]
  },
  {
   "cell_type": "code",
   "execution_count": 57,
   "id": "aa0584f0",
   "metadata": {},
   "outputs": [
    {
     "data": {
      "text/plain": [
       "(220, 5)"
      ]
     },
     "execution_count": 57,
     "metadata": {},
     "output_type": "execute_result"
    }
   ],
   "source": [
    "cleaned_grunfeld = df_grunfeld.drop_duplicates()\n",
    "cleaned_grunfeld.shape"
   ]
  },
  {
   "cell_type": "code",
   "execution_count": 59,
   "id": "69173022",
   "metadata": {},
   "outputs": [],
   "source": [
    "df_grunfeld.to_excel(\"grunfeld_cleaned.xlsx\", sheet_name = \"data\", index=False)"
   ]
  },
  {
   "cell_type": "code",
   "execution_count": 60,
   "id": "ab064f35",
   "metadata": {},
   "outputs": [],
   "source": [
    "calced = pd.read_excel(\"grunfeld_cleaned.xlsx\", sheet_name=\"data\")"
   ]
  },
  {
   "cell_type": "code",
   "execution_count": 61,
   "id": "acd1bdf6",
   "metadata": {},
   "outputs": [
    {
     "data": {
      "text/html": [
       "<div>\n",
       "<style scoped>\n",
       "    .dataframe tbody tr th:only-of-type {\n",
       "        vertical-align: middle;\n",
       "    }\n",
       "\n",
       "    .dataframe tbody tr th {\n",
       "        vertical-align: top;\n",
       "    }\n",
       "\n",
       "    .dataframe thead th {\n",
       "        text-align: right;\n",
       "    }\n",
       "</style>\n",
       "<table border=\"1\" class=\"dataframe\">\n",
       "  <thead>\n",
       "    <tr style=\"text-align: right;\">\n",
       "      <th></th>\n",
       "      <th>invest</th>\n",
       "      <th>value</th>\n",
       "      <th>capital</th>\n",
       "      <th>year</th>\n",
       "    </tr>\n",
       "  </thead>\n",
       "  <tbody>\n",
       "    <tr>\n",
       "      <th>count</th>\n",
       "      <td>220.000000</td>\n",
       "      <td>220.000000</td>\n",
       "      <td>220.000000</td>\n",
       "      <td>220.000000</td>\n",
       "    </tr>\n",
       "    <tr>\n",
       "      <th>mean</th>\n",
       "      <td>133.311900</td>\n",
       "      <td>988.577805</td>\n",
       "      <td>257.108541</td>\n",
       "      <td>1944.500000</td>\n",
       "    </tr>\n",
       "    <tr>\n",
       "      <th>std</th>\n",
       "      <td>210.587186</td>\n",
       "      <td>1287.301172</td>\n",
       "      <td>293.227914</td>\n",
       "      <td>5.779431</td>\n",
       "    </tr>\n",
       "    <tr>\n",
       "      <th>min</th>\n",
       "      <td>0.930000</td>\n",
       "      <td>30.284000</td>\n",
       "      <td>0.800000</td>\n",
       "      <td>1935.000000</td>\n",
       "    </tr>\n",
       "    <tr>\n",
       "      <th>25%</th>\n",
       "      <td>27.380000</td>\n",
       "      <td>160.325000</td>\n",
       "      <td>67.100000</td>\n",
       "      <td>1939.750000</td>\n",
       "    </tr>\n",
       "    <tr>\n",
       "      <th>50%</th>\n",
       "      <td>52.365000</td>\n",
       "      <td>404.650000</td>\n",
       "      <td>180.100000</td>\n",
       "      <td>1944.500000</td>\n",
       "    </tr>\n",
       "    <tr>\n",
       "      <th>75%</th>\n",
       "      <td>99.782500</td>\n",
       "      <td>1605.925000</td>\n",
       "      <td>344.500000</td>\n",
       "      <td>1949.250000</td>\n",
       "    </tr>\n",
       "    <tr>\n",
       "      <th>max</th>\n",
       "      <td>1486.700000</td>\n",
       "      <td>6241.700000</td>\n",
       "      <td>2226.300000</td>\n",
       "      <td>1954.000000</td>\n",
       "    </tr>\n",
       "  </tbody>\n",
       "</table>\n",
       "</div>"
      ],
      "text/plain": [
       "            invest        value      capital         year\n",
       "count   220.000000   220.000000   220.000000   220.000000\n",
       "mean    133.311900   988.577805   257.108541  1944.500000\n",
       "std     210.587186  1287.301172   293.227914     5.779431\n",
       "min       0.930000    30.284000     0.800000  1935.000000\n",
       "25%      27.380000   160.325000    67.100000  1939.750000\n",
       "50%      52.365000   404.650000   180.100000  1944.500000\n",
       "75%      99.782500  1605.925000   344.500000  1949.250000\n",
       "max    1486.700000  6241.700000  2226.300000  1954.000000"
      ]
     },
     "execution_count": 61,
     "metadata": {},
     "output_type": "execute_result"
    }
   ],
   "source": [
    "cleaned_grunfeld.describe()"
   ]
  },
  {
   "cell_type": "code",
   "execution_count": 62,
   "id": "da80c084",
   "metadata": {},
   "outputs": [
    {
     "data": {
      "text/plain": [
       "257.1085409090909"
      ]
     },
     "execution_count": 62,
     "metadata": {},
     "output_type": "execute_result"
    }
   ],
   "source": [
    "cleaned_grunfeld[\"capital\"].mean()"
   ]
  },
  {
   "cell_type": "code",
   "execution_count": 63,
   "id": "c0b925d9",
   "metadata": {},
   "outputs": [
    {
     "data": {
      "text/plain": [
       "180.1"
      ]
     },
     "execution_count": 63,
     "metadata": {},
     "output_type": "execute_result"
    }
   ],
   "source": [
    "cleaned_grunfeld[\"capital\"].median()"
   ]
  },
  {
   "cell_type": "code",
   "execution_count": 64,
   "id": "1ef57810",
   "metadata": {},
   "outputs": [
    {
     "data": {
      "text/plain": [
       "293.22791446935724"
      ]
     },
     "execution_count": 64,
     "metadata": {},
     "output_type": "execute_result"
    }
   ],
   "source": [
    "cleaned_grunfeld[\"capital\"].std()"
   ]
  },
  {
   "cell_type": "code",
   "execution_count": 65,
   "id": "258f8e7e",
   "metadata": {},
   "outputs": [
    {
     "data": {
      "text/plain": [
       "85982.6098240487"
      ]
     },
     "execution_count": 65,
     "metadata": {},
     "output_type": "execute_result"
    }
   ],
   "source": [
    "cleaned_grunfeld[\"capital\"].var()"
   ]
  },
  {
   "cell_type": "code",
   "execution_count": 66,
   "id": "68daab21",
   "metadata": {},
   "outputs": [
    {
     "data": {
      "text/plain": [
       "0.8"
      ]
     },
     "execution_count": 66,
     "metadata": {},
     "output_type": "execute_result"
    }
   ],
   "source": [
    "cleaned_grunfeld[\"capital\"].min()"
   ]
  },
  {
   "cell_type": "code",
   "execution_count": 67,
   "id": "832d4654",
   "metadata": {},
   "outputs": [
    {
     "data": {
      "text/plain": [
       "2226.3"
      ]
     },
     "execution_count": 67,
     "metadata": {},
     "output_type": "execute_result"
    }
   ],
   "source": [
    "cleaned_grunfeld[\"capital\"].max()"
   ]
  },
  {
   "cell_type": "code",
   "execution_count": 68,
   "id": "2eb40cf5",
   "metadata": {},
   "outputs": [
    {
     "data": {
      "text/plain": [
       "2225.5"
      ]
     },
     "execution_count": 68,
     "metadata": {},
     "output_type": "execute_result"
    }
   ],
   "source": [
    "cleaned_grunfeld[\"capital\"].max() - cleaned_grunfeld[\"capital\"].min()"
   ]
  },
  {
   "cell_type": "code",
   "execution_count": 76,
   "id": "510acdc8",
   "metadata": {},
   "outputs": [
    {
     "data": {
      "text/plain": [
       "0     870.182620\n",
       "1    1103.241450\n",
       "2    1250.219191\n",
       "3    1064.687621\n",
       "4    1265.356711\n",
       "Name: rate_of_return, dtype: float64"
      ]
     },
     "execution_count": 76,
     "metadata": {},
     "output_type": "execute_result"
    }
   ],
   "source": [
    "# rate of return\n",
    "grunfeld_endval = cleaned_grunfeld[\"capital\"] + cleaned_grunfeld[\"value\"]\n",
    "cleaned_grunfeld[\"rate_of_return\"] = ((grunfeld_endval - cleaned_grunfeld[\"invest\"]) / cleaned_grunfeld[\"invest\"]) * 100\n",
    "cleaned_grunfeld[\"rate_of_return\"].head()"
   ]
  },
  {
   "cell_type": "code",
   "execution_count": 69,
   "id": "1e6a98e7",
   "metadata": {},
   "outputs": [],
   "source": [
    "# The descriptive analysis's most interesting observation the standard deviation.\n",
    "# Normally, or at least ideally, the standard deviation is a small number, showing that there is a lot of similarly-valued data points.\n",
    "# However this particular variable in the dataset shows a lot of variation, thus meaning that the amount of capital varies greatly between datapoints."
   ]
  },
  {
   "cell_type": "code",
   "execution_count": null,
   "id": "a7a28667",
   "metadata": {},
   "outputs": [],
   "source": [
    "# Use an inbuilt dataset, preferably the one you used for the first assignment ({{Python] Loading Data).\n",
    "# Build on the work done so far by adding at least one hypothesis test and a regression model on the dataset.\n",
    "# Do ensure you provide the context of the analysis and also the interpretation of the analysis results."
   ]
  },
  {
   "cell_type": "code",
   "execution_count": null,
   "id": "46eb70cf",
   "metadata": {},
   "outputs": [],
   "source": []
  }
 ],
 "metadata": {
  "kernelspec": {
   "display_name": "Python 3 (ipykernel)",
   "language": "python",
   "name": "python3"
  },
  "language_info": {
   "codemirror_mode": {
    "name": "ipython",
    "version": 3
   },
   "file_extension": ".py",
   "mimetype": "text/x-python",
   "name": "python",
   "nbconvert_exporter": "python",
   "pygments_lexer": "ipython3",
   "version": "3.9.7"
  }
 },
 "nbformat": 4,
 "nbformat_minor": 5
}
