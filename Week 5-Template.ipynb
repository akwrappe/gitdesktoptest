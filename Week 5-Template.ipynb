{
 "cells": [
  {
   "cell_type": "code",
   "execution_count": null,
   "id": "42f7dfc7",
   "metadata": {},
   "outputs": [],
   "source": [
    "# This piece of code enables display of multiple output from one cell.\n",
    "from IPython.core.interactiveshell import InteractiveShell\n",
    "InteractiveShell.ast_node_interactivity = 'all'"
   ]
  },
  {
   "cell_type": "markdown",
   "id": "275e9528",
   "metadata": {},
   "source": [
    "## Creating multiple files"
   ]
  },
  {
   "cell_type": "code",
   "execution_count": null,
   "id": "b99e4d9d",
   "metadata": {},
   "outputs": [],
   "source": [
    "import pandas as pd\n",
    "ames = pd.read_csv(\"data/AmesHousing.csv\", index_col=\"Order\")\n",
    "ames.head(2)\n",
    "ames['Yr Sold'].unique()"
   ]
  },
  {
   "cell_type": "code",
   "execution_count": null,
   "id": "18304104",
   "metadata": {},
   "outputs": [],
   "source": [
    "# creating filenames\n",
    "import os\n",
    "os.mkdir('data/ames_yearly_files')\n",
    "for year in ames['Yr Sold'].unique():\n",
    "   filename='data/ames_yearly_files/soldyr' + str(year) + '.csv'\n",
    "   print(filename)"
   ]
  },
  {
   "cell_type": "code",
   "execution_count": null,
   "id": "0b12369f",
   "metadata": {},
   "outputs": [],
   "source": [
    "uni_years = ames['Yr Sold'].unique()\n",
    "for year in uni_years:\n",
    "    year_sold = ames[ames['Yr Sold'] == year]\n",
    "    filename = 'data/ames_yearly_files/soldyr' + str(year) + '.csv'\n",
    "    year_sold.to_csv(filename)"
   ]
  },
  {
   "cell_type": "code",
   "execution_count": null,
   "id": "27bae673",
   "metadata": {},
   "outputs": [],
   "source": [
    "os.listdir('data/ames_yearly_files')"
   ]
  },
  {
   "cell_type": "markdown",
   "id": "8ccd9c62",
   "metadata": {},
   "source": [
    "## Multiple Inputs"
   ]
  },
  {
   "cell_type": "code",
   "execution_count": null,
   "id": "846ed621",
   "metadata": {},
   "outputs": [],
   "source": [
    "import pandas as pd\n",
    "data1 = pd.read_csv('data/ames_yearly_files/soldyr2010.csv')\n",
    "data1.head()"
   ]
  },
  {
   "cell_type": "code",
   "execution_count": null,
   "id": "5069a7e1",
   "metadata": {},
   "outputs": [],
   "source": []
  },
  {
   "cell_type": "code",
   "execution_count": null,
   "id": "02a717fb",
   "metadata": {},
   "outputs": [],
   "source": [
    "inyear = [2006, 2007, 2008]\n"
   ]
  },
  {
   "cell_type": "markdown",
   "id": "2a595181",
   "metadata": {},
   "source": [
    "## Multiple plots"
   ]
  },
  {
   "cell_type": "code",
   "execution_count": null,
   "id": "a35daf5c",
   "metadata": {},
   "outputs": [],
   "source": [
    "combinedata.columns"
   ]
  },
  {
   "cell_type": "code",
   "execution_count": null,
   "id": "a52cb5b8",
   "metadata": {},
   "outputs": [],
   "source": [
    "vars2plot = ['Neighborhood', 'Bldg Type', 'Sale Condition']\n"
   ]
  },
  {
   "cell_type": "markdown",
   "id": "56934b66",
   "metadata": {},
   "source": [
    "## Functions and Conditionals"
   ]
  },
  {
   "cell_type": "code",
   "execution_count": null,
   "id": "04b459a6",
   "metadata": {},
   "outputs": [],
   "source": [
    "def add_seven(input):\n",
    "   \n",
    "    return output"
   ]
  },
  {
   "cell_type": "code",
   "execution_count": null,
   "id": "49a57edd",
   "metadata": {},
   "outputs": [],
   "source": [
    "add_seven(1)"
   ]
  },
  {
   "cell_type": "code",
   "execution_count": null,
   "id": "3ecd3d7a",
   "metadata": {},
   "outputs": [],
   "source": [
    "help(add_seven)"
   ]
  },
  {
   "cell_type": "markdown",
   "id": "9f0eaed5",
   "metadata": {},
   "source": [
    "### Functions"
   ]
  },
  {
   "cell_type": "code",
   "execution_count": null,
   "id": "c206eb44",
   "metadata": {},
   "outputs": [],
   "source": [
    "def tidycolnames(df):\n",
    "    \"\"\" This function takes a dataframe and changes the columns names \n",
    "        by removing spaces and making the letters lowercase\"\"\"\n",
    "    df.columns = df.columns.str.replace(' ', '')\n",
    "    df.columns = [col.lower() for col in df]\n",
    "    return df\n",
    "\n",
    "\n",
    "help(tidycolnames)"
   ]
  },
  {
   "cell_type": "code",
   "execution_count": null,
   "id": "67ec0c8e",
   "metadata": {},
   "outputs": [],
   "source": [
    "ames.head()\n",
    "ames_tidy = tidycolnames(ames)\n",
    "ames_tidy.head()"
   ]
  }
 ],
 "metadata": {
  "kernelspec": {
   "display_name": "Python 3 (ipykernel)",
   "language": "python",
   "name": "python3"
  },
  "language_info": {
   "codemirror_mode": {
    "name": "ipython",
    "version": 3
   },
   "file_extension": ".py",
   "mimetype": "text/x-python",
   "name": "python",
   "nbconvert_exporter": "python",
   "pygments_lexer": "ipython3",
   "version": "3.9.7"
  }
 },
 "nbformat": 4,
 "nbformat_minor": 5
}
