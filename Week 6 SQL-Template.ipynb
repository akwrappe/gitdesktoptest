{
 "cells": [
  {
   "cell_type": "code",
   "execution_count": null,
   "id": "d1d5c953",
   "metadata": {},
   "outputs": [],
   "source": [
    "# This piece of code enables display of multiple output from one cell.\n",
    "from IPython.core.interactiveshell import InteractiveShell\n",
    "InteractiveShell.ast_node_interactivity = 'all'"
   ]
  },
  {
   "cell_type": "markdown",
   "id": "731727ab",
   "metadata": {},
   "source": [
    "# SQL "
   ]
  },
  {
   "cell_type": "markdown",
   "id": "2f59d031",
   "metadata": {},
   "source": [
    "### Connecting to Database"
   ]
  },
  {
   "cell_type": "code",
   "execution_count": null,
   "id": "1de5ad70",
   "metadata": {},
   "outputs": [],
   "source": [
    "import sqlite3"
   ]
  },
  {
   "cell_type": "code",
   "execution_count": null,
   "id": "1a24136a",
   "metadata": {},
   "outputs": [],
   "source": [
    "sqliteConnection = sqlite3.connect('sql.db')"
   ]
  },
  {
   "cell_type": "code",
   "execution_count": null,
   "id": "3caea6e3",
   "metadata": {},
   "outputs": [],
   "source": [
    "cursor = sqliteConnection.cursor()\n",
    "print('DB Init')"
   ]
  },
  {
   "cell_type": "code",
   "execution_count": null,
   "id": "66be871a",
   "metadata": {},
   "outputs": [],
   "source": [
    "query = 'select sqlite_version();'\n",
    "cursor.execute(query)\n",
    "  \n",
    "result = cursor.fetchall()\n",
    "print('SQLite Version is {}'.format(result))\n"
   ]
  },
  {
   "cell_type": "code",
   "execution_count": null,
   "id": "5f80ee00",
   "metadata": {},
   "outputs": [],
   "source": [
    "cursor.close()"
   ]
  },
  {
   "cell_type": "markdown",
   "id": "ba158e56",
   "metadata": {},
   "source": [
    "### Lets query covid data"
   ]
  },
  {
   "cell_type": "code",
   "execution_count": null,
   "id": "29d2bd1a",
   "metadata": {},
   "outputs": [],
   "source": [
    "import pandas as pd\n",
    "covid = pd.read_csv(\"data/covid_statistics.csv\")\n",
    "covid.shape\n",
    "covid.head()\n",
    "del covid[\"Unnamed: 0\"]"
   ]
  },
  {
   "cell_type": "code",
   "execution_count": null,
   "id": "8a557c83",
   "metadata": {},
   "outputs": [],
   "source": []
  },
  {
   "cell_type": "markdown",
   "id": "f98f819e",
   "metadata": {},
   "source": [
    "### How many rows in the table?"
   ]
  },
  {
   "cell_type": "code",
   "execution_count": null,
   "id": "aaf81721",
   "metadata": {},
   "outputs": [],
   "source": []
  },
  {
   "cell_type": "code",
   "execution_count": null,
   "id": "cb2100af",
   "metadata": {},
   "outputs": [],
   "source": []
  },
  {
   "cell_type": "markdown",
   "id": "2b97db47",
   "metadata": {},
   "source": [
    "### What are the statistics for \"World\"? What about North America?\n",
    "#### Where clause"
   ]
  },
  {
   "cell_type": "code",
   "execution_count": null,
   "id": "e2ce3d06",
   "metadata": {},
   "outputs": [],
   "source": []
  },
  {
   "cell_type": "code",
   "execution_count": null,
   "id": "cf871a02",
   "metadata": {},
   "outputs": [],
   "source": []
  },
  {
   "cell_type": "code",
   "execution_count": null,
   "id": "724f02ab",
   "metadata": {},
   "outputs": [],
   "source": []
  },
  {
   "cell_type": "markdown",
   "id": "b5caae02",
   "metadata": {},
   "source": [
    "### Were there any instances where the total cases was more than 1000 but Weekly ICU admissions less than 200?\n",
    "#### LIMIT"
   ]
  },
  {
   "cell_type": "code",
   "execution_count": null,
   "id": "27fb1f4d",
   "metadata": {},
   "outputs": [],
   "source": []
  },
  {
   "cell_type": "markdown",
   "id": "814da919",
   "metadata": {},
   "source": [
    "### What are the top instances where total cases were between 1000 and 2000 in April 2021\n",
    "#### ORDER BY"
   ]
  },
  {
   "cell_type": "code",
   "execution_count": null,
   "id": "358ec900",
   "metadata": {},
   "outputs": [],
   "source": [
    "\n"
   ]
  },
  {
   "cell_type": "code",
   "execution_count": null,
   "id": "eadfb2c8",
   "metadata": {},
   "outputs": [],
   "source": []
  },
  {
   "cell_type": "markdown",
   "id": "d5ae75bf",
   "metadata": {},
   "source": [
    "### How did the total new cases and new deaths compare across all continents in 2021?\n",
    "### How did the countries in North America rank based on new total deaths?\n",
    "#### GROUP BY"
   ]
  },
  {
   "cell_type": "code",
   "execution_count": null,
   "id": "0db8e499",
   "metadata": {},
   "outputs": [],
   "source": []
  },
  {
   "cell_type": "code",
   "execution_count": null,
   "id": "8c4826d3",
   "metadata": {},
   "outputs": [],
   "source": []
  },
  {
   "cell_type": "markdown",
   "id": "7b58c9f4",
   "metadata": {},
   "source": [
    "### How many countries reported data at least 450 times in North America?\n",
    "#### HAVING"
   ]
  },
  {
   "cell_type": "code",
   "execution_count": null,
   "id": "3d0f4d1f",
   "metadata": {},
   "outputs": [],
   "source": [
    "query = 'SELECT location, COUNT(DISTINCT date) as cnt FROM covid_stats WHERE continent == \"North America\" GROUP BY location ORDER BY cnt desc'\n",
    "cursor.execute(query)\n",
    "print(pd.read_sql_query(query,sqliteConnection))"
   ]
  },
  {
   "cell_type": "code",
   "execution_count": null,
   "id": "70701199",
   "metadata": {},
   "outputs": [],
   "source": [
    "query = 'SELECT DISTINCT location FROM covid_stats WHERE continent == \"North America\" GROUP BY location HAVING count(location) > 450'\n",
    "cursor.execute(query)\n",
    "print(pd.read_sql_query(query,sqliteConnection))"
   ]
  },
  {
   "cell_type": "code",
   "execution_count": null,
   "id": "c5cdbaf7",
   "metadata": {},
   "outputs": [],
   "source": [
    "query = 'SELECT location, SUM(new_cases) as tot_new_cases, SUM(new_deaths) as tot_new_deaths  FROM covid_stats WHERE location IN (SELECT DISTINCT location FROM covid_stats WHERE continent == \"North America\" GROUP BY location HAVING count(location) > 450) GROUP BY location ORDER BY tot_new_deaths desc'\n",
    "cursor.execute(query)\n",
    "print(pd.read_sql_query(query,sqliteConnection))"
   ]
  },
  {
   "cell_type": "markdown",
   "id": "d1fc4660",
   "metadata": {},
   "source": [
    "### Load the second table"
   ]
  },
  {
   "cell_type": "code",
   "execution_count": null,
   "id": "67214ef8",
   "metadata": {},
   "outputs": [],
   "source": [
    "import pandas as pd\n",
    "\n",
    "cntry = pd.read_csv(\"data/country_statistics.csv\")\n",
    "\n",
    "cntry.shape\n",
    "cntry.head()\n",
    "del cntry[\"Unnamed: 0\"]\n",
    "cntry.shape\n",
    "cntry.head()"
   ]
  },
  {
   "cell_type": "code",
   "execution_count": null,
   "id": "a530ddea",
   "metadata": {},
   "outputs": [],
   "source": []
  },
  {
   "cell_type": "code",
   "execution_count": null,
   "id": "9cd06bf6",
   "metadata": {},
   "outputs": [],
   "source": []
  },
  {
   "cell_type": "code",
   "execution_count": null,
   "id": "eec05e22",
   "metadata": {},
   "outputs": [],
   "source": []
  },
  {
   "cell_type": "code",
   "execution_count": null,
   "id": "8e693813",
   "metadata": {},
   "outputs": [],
   "source": []
  },
  {
   "cell_type": "code",
   "execution_count": null,
   "id": "63bdb36e",
   "metadata": {},
   "outputs": [],
   "source": []
  },
  {
   "cell_type": "markdown",
   "id": "6a02db5d",
   "metadata": {},
   "source": [
    "\n",
    "### JOINS"
   ]
  },
  {
   "cell_type": "code",
   "execution_count": null,
   "id": "016174a9",
   "metadata": {},
   "outputs": [],
   "source": []
  },
  {
   "cell_type": "code",
   "execution_count": null,
   "id": "5097def8",
   "metadata": {},
   "outputs": [],
   "source": []
  },
  {
   "cell_type": "markdown",
   "id": "cd94096a",
   "metadata": {},
   "source": [
    "### Reference\n",
    "[SQLite Python](https://www.tutorialspoint.com/sqlite/sqlite_python.htm)\n",
    "<br>\n",
    "[COVID Data](https://github.com/owid/covid-19-data/tree/master/public/data)\n",
    "<br>\n",
    "[Intro to Databases](https://www.geeksforgeeks.org/introduction-to-sqlite-in-python/)"
   ]
  }
 ],
 "metadata": {
  "kernelspec": {
   "display_name": "Python 3 (ipykernel)",
   "language": "python",
   "name": "python3"
  },
  "language_info": {
   "codemirror_mode": {
    "name": "ipython",
    "version": 3
   },
   "file_extension": ".py",
   "mimetype": "text/x-python",
   "name": "python",
   "nbconvert_exporter": "python",
   "pygments_lexer": "ipython3",
   "version": "3.8.5"
  }
 },
 "nbformat": 4,
 "nbformat_minor": 5
}
